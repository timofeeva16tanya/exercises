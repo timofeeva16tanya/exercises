{
 "cells": [
  {
   "cell_type": "code",
   "execution_count": 272,
   "metadata": {},
   "outputs": [],
   "source": [
    "import torch\n",
    "import torch.nn as nn\n",
    "import torch.optim as optim\n",
    "import torchvision.datasets as dset\n",
    "import torch.utils.data as utils\n",
    "#from torch.utils.data.sampler import SubsetRandomSampler, Sampler\n",
    "\n",
    "from torchvision import transforms\n",
    "\n",
    "import numpy as np\n",
    "import pandas as pd\n",
    "import matplotlib.pyplot as plt\n",
    "import glob\n",
    "import os\n",
    "from sklearn.linear_model import LinearRegression\n",
    "from sklearn.model_selection import train_test_split"
   ]
  },
  {
   "cell_type": "markdown",
   "metadata": {},
   "source": [
    "соберем данные в один датафрейм."
   ]
  },
  {
   "cell_type": "code",
   "execution_count": 274,
   "metadata": {},
   "outputs": [
    {
     "data": {
      "text/html": [
       "<div>\n",
       "<style scoped>\n",
       "    .dataframe tbody tr th:only-of-type {\n",
       "        vertical-align: middle;\n",
       "    }\n",
       "\n",
       "    .dataframe tbody tr th {\n",
       "        vertical-align: top;\n",
       "    }\n",
       "\n",
       "    .dataframe thead th {\n",
       "        text-align: right;\n",
       "    }\n",
       "</style>\n",
       "<table border=\"1\" class=\"dataframe\">\n",
       "  <thead>\n",
       "    <tr style=\"text-align: right;\">\n",
       "      <th></th>\n",
       "      <th>CAL_QTR</th>\n",
       "      <th>CAL_YEAR</th>\n",
       "      <th>DATE</th>\n",
       "      <th>EPS_ACT</th>\n",
       "      <th>EPS_ACT_ADJ</th>\n",
       "      <th>EPS_AMT_DIFF_SURP</th>\n",
       "      <th>EPS_CNT_EST</th>\n",
       "      <th>EPS_MEAN_EST</th>\n",
       "      <th>EPS_PCT_DIFF_SURP</th>\n",
       "      <th>EPS_STD_EST</th>\n",
       "      <th>FISC_QTR</th>\n",
       "      <th>FISC_YEAR</th>\n",
       "      <th>PER_CODE</th>\n",
       "      <th>PER_END_DATE</th>\n",
       "      <th>company</th>\n",
       "    </tr>\n",
       "  </thead>\n",
       "  <tbody>\n",
       "    <tr>\n",
       "      <th>0</th>\n",
       "      <td>1.0</td>\n",
       "      <td>2019.0</td>\n",
       "      <td>2019-04-18</td>\n",
       "      <td>2.01</td>\n",
       "      <td>0.21</td>\n",
       "      <td>0.01</td>\n",
       "      <td>8.0</td>\n",
       "      <td>2.00</td>\n",
       "      <td>0.50</td>\n",
       "      <td>0.04</td>\n",
       "      <td>1.0</td>\n",
       "      <td>2019.0</td>\n",
       "      <td>NaN</td>\n",
       "      <td>20190331.0</td>\n",
       "      <td>ZES-AXP</td>\n",
       "    </tr>\n",
       "    <tr>\n",
       "      <th>1</th>\n",
       "      <td>4.0</td>\n",
       "      <td>2018.0</td>\n",
       "      <td>2019-01-17</td>\n",
       "      <td>1.74</td>\n",
       "      <td>-0.58</td>\n",
       "      <td>-0.06</td>\n",
       "      <td>9.0</td>\n",
       "      <td>1.80</td>\n",
       "      <td>-3.33</td>\n",
       "      <td>0.04</td>\n",
       "      <td>4.0</td>\n",
       "      <td>2018.0</td>\n",
       "      <td>NaN</td>\n",
       "      <td>20181231.0</td>\n",
       "      <td>ZES-AXP</td>\n",
       "    </tr>\n",
       "    <tr>\n",
       "      <th>2</th>\n",
       "      <td>3.0</td>\n",
       "      <td>2018.0</td>\n",
       "      <td>2018-10-18</td>\n",
       "      <td>1.88</td>\n",
       "      <td>0.00</td>\n",
       "      <td>0.10</td>\n",
       "      <td>9.0</td>\n",
       "      <td>1.78</td>\n",
       "      <td>5.62</td>\n",
       "      <td>0.02</td>\n",
       "      <td>3.0</td>\n",
       "      <td>2018.0</td>\n",
       "      <td>NaN</td>\n",
       "      <td>20180930.0</td>\n",
       "      <td>ZES-AXP</td>\n",
       "    </tr>\n",
       "    <tr>\n",
       "      <th>3</th>\n",
       "      <td>2.0</td>\n",
       "      <td>2018.0</td>\n",
       "      <td>2018-07-18</td>\n",
       "      <td>1.84</td>\n",
       "      <td>0.00</td>\n",
       "      <td>0.01</td>\n",
       "      <td>9.0</td>\n",
       "      <td>1.83</td>\n",
       "      <td>0.55</td>\n",
       "      <td>0.06</td>\n",
       "      <td>2.0</td>\n",
       "      <td>2018.0</td>\n",
       "      <td>NaN</td>\n",
       "      <td>20180630.0</td>\n",
       "      <td>ZES-AXP</td>\n",
       "    </tr>\n",
       "    <tr>\n",
       "      <th>4</th>\n",
       "      <td>1.0</td>\n",
       "      <td>2018.0</td>\n",
       "      <td>2018-04-18</td>\n",
       "      <td>1.86</td>\n",
       "      <td>0.00</td>\n",
       "      <td>0.15</td>\n",
       "      <td>11.0</td>\n",
       "      <td>1.71</td>\n",
       "      <td>8.77</td>\n",
       "      <td>0.06</td>\n",
       "      <td>1.0</td>\n",
       "      <td>2018.0</td>\n",
       "      <td>NaN</td>\n",
       "      <td>20180331.0</td>\n",
       "      <td>ZES-AXP</td>\n",
       "    </tr>\n",
       "  </tbody>\n",
       "</table>\n",
       "</div>"
      ],
      "text/plain": [
       "   CAL_QTR  CAL_YEAR        DATE  EPS_ACT  EPS_ACT_ADJ  EPS_AMT_DIFF_SURP  \\\n",
       "0      1.0    2019.0  2019-04-18     2.01         0.21               0.01   \n",
       "1      4.0    2018.0  2019-01-17     1.74        -0.58              -0.06   \n",
       "2      3.0    2018.0  2018-10-18     1.88         0.00               0.10   \n",
       "3      2.0    2018.0  2018-07-18     1.84         0.00               0.01   \n",
       "4      1.0    2018.0  2018-04-18     1.86         0.00               0.15   \n",
       "\n",
       "   EPS_CNT_EST  EPS_MEAN_EST  EPS_PCT_DIFF_SURP  EPS_STD_EST  FISC_QTR  \\\n",
       "0          8.0          2.00               0.50         0.04       1.0   \n",
       "1          9.0          1.80              -3.33         0.04       4.0   \n",
       "2          9.0          1.78               5.62         0.02       3.0   \n",
       "3          9.0          1.83               0.55         0.06       2.0   \n",
       "4         11.0          1.71               8.77         0.06       1.0   \n",
       "\n",
       "   FISC_YEAR  PER_CODE  PER_END_DATE  company  \n",
       "0     2019.0       NaN    20190331.0  ZES-AXP  \n",
       "1     2018.0       NaN    20181231.0  ZES-AXP  \n",
       "2     2018.0       NaN    20180930.0  ZES-AXP  \n",
       "3     2018.0       NaN    20180630.0  ZES-AXP  \n",
       "4     2018.0       NaN    20180331.0  ZES-AXP  "
      ]
     },
     "execution_count": 274,
     "metadata": {},
     "output_type": "execute_result"
    }
   ],
   "source": [
    "dict={'DATE':[],'EPS_MEAN_EST':[],'EPS_ACT':[],'EPS_ACT_ADJ':[] ,\n",
    "     'EPS_AMT_DIFF_SURP':[],'EPS_PCT_DIFF_SURP':[],'EPS_STD_EST':[] ,\n",
    "     'EPS_CNT_EST':[], 'FISC_YEAR':[], 'FISC_QTR':[], 'CAL_YEAR':[] ,\n",
    "    'CAL_QTR':[], 'PER_END_DATE':[], 'PER_CODE':[],'company':[]}\n",
    "df=pd.DataFrame(data=dict)\n",
    "path = 'C:/Users/LUBOV/dlcourse_ai/assignments/assignment1/data_new/Test_case/EPS_data/'\n",
    "for filename in glob.glob((os.path.join(path, '*.csv'))):\n",
    "    name=filename.replace(path.replace('EPS_data/','EPS_data\\\\'),'').replace('.csv','')\n",
    "    data = pd.read_csv(filename)\n",
    "    if data.shape[0]>0:\n",
    "        data['company']= name\n",
    "        df=pd.concat([df,data],ignore_index=True,sort=True)\n",
    "df.head()"
   ]
  },
  {
   "cell_type": "code",
   "execution_count": null,
   "metadata": {},
   "outputs": [],
   "source": [
    "смотрим на распределение величин: распределение EPS, распределение ошибки в прогнозах"
   ]
  },
  {
   "cell_type": "code",
   "execution_count": 285,
   "metadata": {},
   "outputs": [
    {
     "data": {
      "text/plain": [
       "<matplotlib.axes._subplots.AxesSubplot at 0x14d90828>"
      ]
     },
     "execution_count": 285,
     "metadata": {},
     "output_type": "execute_result"
    },
    {
     "data": {
      "image/png": "[encoded data removed]",
      "text/plain": [
       "<Figure size 360x360 with 1 Axes>"
      ]
     },
     "metadata": {
      "needs_background": "light"
     },
     "output_type": "display_data"
    }
   ],
   "source": [
    "df['EPS_ACT'].hist(bins=50,grid=False, figsize=(5, 5))"
   ]
  },
  {
   "cell_type": "markdown",
   "metadata": {},
   "source": [
    "похоже на три гауссова распределениясо средним 1 и 2 и 5"
   ]
  },
  {
   "cell_type": "code",
   "execution_count": 280,
   "metadata": {},
   "outputs": [],
   "source": [
    "df['EPS_AMT_DIFF_SURP']=pd.to_numeric(df['EPS_AMT_DIFF_SURP'])\n",
    "df['EPS_PCT_DIFF_SURP']=pd.to_numeric(df['EPS_PCT_DIFF_SURP'])\n",
    "df['EPS_ACT']=pd.to_numeric(df['EPS_ACT'])  "
   ]
  },
  {
   "cell_type": "code",
   "execution_count": 281,
   "metadata": {},
   "outputs": [
    {
     "data": {
      "text/html": [
       "<div>\n",
       "<style scoped>\n",
       "    .dataframe tbody tr th:only-of-type {\n",
       "        vertical-align: middle;\n",
       "    }\n",
       "\n",
       "    .dataframe tbody tr th {\n",
       "        vertical-align: top;\n",
       "    }\n",
       "\n",
       "    .dataframe thead tr th {\n",
       "        text-align: left;\n",
       "    }\n",
       "\n",
       "    .dataframe thead tr:last-of-type th {\n",
       "        text-align: right;\n",
       "    }\n",
       "</style>\n",
       "<table border=\"1\" class=\"dataframe\">\n",
       "  <thead>\n",
       "    <tr>\n",
       "      <th></th>\n",
       "      <th colspan=\"4\" halign=\"left\">EPS_PCT_DIFF_SURP</th>\n",
       "      <th colspan=\"4\" halign=\"left\">EPS_AMT_DIFF_SURP</th>\n",
       "    </tr>\n",
       "    <tr>\n",
       "      <th></th>\n",
       "      <th>mean</th>\n",
       "      <th>std</th>\n",
       "      <th>amin</th>\n",
       "      <th>amax</th>\n",
       "      <th>mean</th>\n",
       "      <th>std</th>\n",
       "      <th>amin</th>\n",
       "      <th>amax</th>\n",
       "    </tr>\n",
       "    <tr>\n",
       "      <th>company</th>\n",
       "      <th></th>\n",
       "      <th></th>\n",
       "      <th></th>\n",
       "      <th></th>\n",
       "      <th></th>\n",
       "      <th></th>\n",
       "      <th></th>\n",
       "      <th></th>\n",
       "    </tr>\n",
       "  </thead>\n",
       "  <tbody>\n",
       "    <tr>\n",
       "      <th>ZES-CAT</th>\n",
       "      <td>24.715000</td>\n",
       "      <td>31.649181</td>\n",
       "      <td>-14.43</td>\n",
       "      <td>106.45</td>\n",
       "      <td>0.261667</td>\n",
       "      <td>0.331274</td>\n",
       "      <td>-0.43</td>\n",
       "      <td>0.73</td>\n",
       "    </tr>\n",
       "    <tr>\n",
       "      <th>ZES-BA</th>\n",
       "      <td>19.662500</td>\n",
       "      <td>22.401684</td>\n",
       "      <td>-3.48</td>\n",
       "      <td>64.95</td>\n",
       "      <td>0.485000</td>\n",
       "      <td>0.593732</td>\n",
       "      <td>-0.12</td>\n",
       "      <td>1.89</td>\n",
       "    </tr>\n",
       "    <tr>\n",
       "      <th>ZES-GS</th>\n",
       "      <td>17.760000</td>\n",
       "      <td>9.033875</td>\n",
       "      <td>-4.28</td>\n",
       "      <td>28.05</td>\n",
       "      <td>0.790000</td>\n",
       "      <td>0.431888</td>\n",
       "      <td>-0.23</td>\n",
       "      <td>1.31</td>\n",
       "    </tr>\n",
       "    <tr>\n",
       "      <th>ZES-NKE</th>\n",
       "      <td>17.398333</td>\n",
       "      <td>9.821778</td>\n",
       "      <td>2.08</td>\n",
       "      <td>30.77</td>\n",
       "      <td>0.088333</td>\n",
       "      <td>0.051316</td>\n",
       "      <td>0.01</td>\n",
       "      <td>0.17</td>\n",
       "    </tr>\n",
       "    <tr>\n",
       "      <th>ZES-TRV</th>\n",
       "      <td>15.811667</td>\n",
       "      <td>43.253453</td>\n",
       "      <td>-25.51</td>\n",
       "      <td>139.47</td>\n",
       "      <td>0.106667</td>\n",
       "      <td>0.392760</td>\n",
       "      <td>-0.62</td>\n",
       "      <td>0.76</td>\n",
       "    </tr>\n",
       "    <tr>\n",
       "      <th>ZES-INTC</th>\n",
       "      <td>11.836667</td>\n",
       "      <td>9.454495</td>\n",
       "      <td>1.54</td>\n",
       "      <td>26.25</td>\n",
       "      <td>0.099167</td>\n",
       "      <td>0.085754</td>\n",
       "      <td>0.01</td>\n",
       "      <td>0.25</td>\n",
       "    </tr>\n",
       "    <tr>\n",
       "      <th>ZES-UTX</th>\n",
       "      <td>8.350833</td>\n",
       "      <td>7.890849</td>\n",
       "      <td>0.00</td>\n",
       "      <td>29.14</td>\n",
       "      <td>0.134167</td>\n",
       "      <td>0.118126</td>\n",
       "      <td>0.00</td>\n",
       "      <td>0.44</td>\n",
       "    </tr>\n",
       "    <tr>\n",
       "      <th>ZES-JPM</th>\n",
       "      <td>7.680833</td>\n",
       "      <td>7.850893</td>\n",
       "      <td>-10.00</td>\n",
       "      <td>20.42</td>\n",
       "      <td>0.125833</td>\n",
       "      <td>0.140224</td>\n",
       "      <td>-0.22</td>\n",
       "      <td>0.33</td>\n",
       "    </tr>\n",
       "    <tr>\n",
       "      <th>ZES-V</th>\n",
       "      <td>7.002500</td>\n",
       "      <td>3.249162</td>\n",
       "      <td>0.83</td>\n",
       "      <td>11.11</td>\n",
       "      <td>0.065000</td>\n",
       "      <td>0.032333</td>\n",
       "      <td>0.01</td>\n",
       "      <td>0.12</td>\n",
       "    </tr>\n",
       "    <tr>\n",
       "      <th>ZES-GE</th>\n",
       "      <td>6.076667</td>\n",
       "      <td>27.613386</td>\n",
       "      <td>-40.82</td>\n",
       "      <td>55.56</td>\n",
       "      <td>-0.004167</td>\n",
       "      <td>0.070770</td>\n",
       "      <td>-0.20</td>\n",
       "      <td>0.05</td>\n",
       "    </tr>\n",
       "    <tr>\n",
       "      <th>ZES-AXP</th>\n",
       "      <td>4.460000</td>\n",
       "      <td>9.067850</td>\n",
       "      <td>-7.14</td>\n",
       "      <td>29.17</td>\n",
       "      <td>0.061667</td>\n",
       "      <td>0.101160</td>\n",
       "      <td>-0.07</td>\n",
       "      <td>0.28</td>\n",
       "    </tr>\n",
       "    <tr>\n",
       "      <th>ZES-UNH</th>\n",
       "      <td>3.860000</td>\n",
       "      <td>1.660958</td>\n",
       "      <td>1.93</td>\n",
       "      <td>8.72</td>\n",
       "      <td>0.100000</td>\n",
       "      <td>0.037173</td>\n",
       "      <td>0.04</td>\n",
       "      <td>0.19</td>\n",
       "    </tr>\n",
       "    <tr>\n",
       "      <th>ZES-PG</th>\n",
       "      <td>3.721667</td>\n",
       "      <td>2.251371</td>\n",
       "      <td>1.87</td>\n",
       "      <td>8.97</td>\n",
       "      <td>0.035000</td>\n",
       "      <td>0.016237</td>\n",
       "      <td>0.02</td>\n",
       "      <td>0.07</td>\n",
       "    </tr>\n",
       "    <tr>\n",
       "      <th>ZES-JNJ</th>\n",
       "      <td>2.460833</td>\n",
       "      <td>1.429237</td>\n",
       "      <td>0.99</td>\n",
       "      <td>5.56</td>\n",
       "      <td>0.045000</td>\n",
       "      <td>0.025761</td>\n",
       "      <td>0.02</td>\n",
       "      <td>0.10</td>\n",
       "    </tr>\n",
       "    <tr>\n",
       "      <th>ZES-KO</th>\n",
       "      <td>2.321667</td>\n",
       "      <td>1.998863</td>\n",
       "      <td>-2.27</td>\n",
       "      <td>5.45</td>\n",
       "      <td>0.011667</td>\n",
       "      <td>0.010299</td>\n",
       "      <td>-0.01</td>\n",
       "      <td>0.03</td>\n",
       "    </tr>\n",
       "    <tr>\n",
       "      <th>ZES-VZ</th>\n",
       "      <td>1.075000</td>\n",
       "      <td>2.933426</td>\n",
       "      <td>-3.37</td>\n",
       "      <td>5.41</td>\n",
       "      <td>0.013333</td>\n",
       "      <td>0.030847</td>\n",
       "      <td>-0.03</td>\n",
       "      <td>0.06</td>\n",
       "    </tr>\n",
       "    <tr>\n",
       "      <th>ZES-MMM</th>\n",
       "      <td>0.030000</td>\n",
       "      <td>4.268321</td>\n",
       "      <td>-10.80</td>\n",
       "      <td>5.43</td>\n",
       "      <td>-0.005000</td>\n",
       "      <td>0.102824</td>\n",
       "      <td>-0.27</td>\n",
       "      <td>0.12</td>\n",
       "    </tr>\n",
       "  </tbody>\n",
       "</table>\n",
       "</div>"
      ],
      "text/plain": [
       "         EPS_PCT_DIFF_SURP                           EPS_AMT_DIFF_SURP  \\\n",
       "                      mean        std   amin    amax              mean   \n",
       "company                                                                  \n",
       "ZES-CAT          24.715000  31.649181 -14.43  106.45          0.261667   \n",
       "ZES-BA           19.662500  22.401684  -3.48   64.95          0.485000   \n",
       "ZES-GS           17.760000   9.033875  -4.28   28.05          0.790000   \n",
       "ZES-NKE          17.398333   9.821778   2.08   30.77          0.088333   \n",
       "ZES-TRV          15.811667  43.253453 -25.51  139.47          0.106667   \n",
       "ZES-INTC         11.836667   9.454495   1.54   26.25          0.099167   \n",
       "ZES-UTX           8.350833   7.890849   0.00   29.14          0.134167   \n",
       "ZES-JPM           7.680833   7.850893 -10.00   20.42          0.125833   \n",
       "ZES-V             7.002500   3.249162   0.83   11.11          0.065000   \n",
       "ZES-GE            6.076667  27.613386 -40.82   55.56         -0.004167   \n",
       "ZES-AXP           4.460000   9.067850  -7.14   29.17          0.061667   \n",
       "ZES-UNH           3.860000   1.660958   1.93    8.72          0.100000   \n",
       "ZES-PG            3.721667   2.251371   1.87    8.97          0.035000   \n",
       "ZES-JNJ           2.460833   1.429237   0.99    5.56          0.045000   \n",
       "ZES-KO            2.321667   1.998863  -2.27    5.45          0.011667   \n",
       "ZES-VZ            1.075000   2.933426  -3.37    5.41          0.013333   \n",
       "ZES-MMM           0.030000   4.268321 -10.80    5.43         -0.005000   \n",
       "\n",
       "                                \n",
       "               std  amin  amax  \n",
       "company                         \n",
       "ZES-CAT   0.331274 -0.43  0.73  \n",
       "ZES-BA    0.593732 -0.12  1.89  \n",
       "ZES-GS    0.431888 -0.23  1.31  \n",
       "ZES-NKE   0.051316  0.01  0.17  \n",
       "ZES-TRV   0.392760 -0.62  0.76  \n",
       "ZES-INTC  0.085754  0.01  0.25  \n",
       "ZES-UTX   0.118126  0.00  0.44  \n",
       "ZES-JPM   0.140224 -0.22  0.33  \n",
       "ZES-V     0.032333  0.01  0.12  \n",
       "ZES-GE    0.070770 -0.20  0.05  \n",
       "ZES-AXP   0.101160 -0.07  0.28  \n",
       "ZES-UNH   0.037173  0.04  0.19  \n",
       "ZES-PG    0.016237  0.02  0.07  \n",
       "ZES-JNJ   0.025761  0.02  0.10  \n",
       "ZES-KO    0.010299 -0.01  0.03  \n",
       "ZES-VZ    0.030847 -0.03  0.06  \n",
       "ZES-MMM   0.102824 -0.27  0.12  "
      ]
     },
     "execution_count": 281,
     "metadata": {},
     "output_type": "execute_result"
    }
   ],
   "source": [
    "df.groupby(['company']).agg({'EPS_PCT_DIFF_SURP':[np.mean, np.std,np.min, np.max],'EPS_AMT_DIFF_SURP':[np.mean, np.std,np.min, np.max]}).sort_values(('EPS_PCT_DIFF_SURP', 'mean'),ascending=False)"
   ]
  },
  {
   "cell_type": "markdown",
   "metadata": {},
   "source": [
    "основная ошибка приходится на GS, BA,CAT,TRV. посмотрим на их распределение EPS"
   ]
  },
  {
   "cell_type": "code",
   "execution_count": 287,
   "metadata": {
    "scrolled": true
   },
   "outputs": [
    {
     "data": {
      "text/plain": [
       "<matplotlib.axes._subplots.AxesSubplot at 0x14f3d898>"
      ]
     },
     "execution_count": 287,
     "metadata": {},
     "output_type": "execute_result"
    },
    {
     "data": {
      "image/png": "[encoded data removed]",
      "text/plain": [
       "<Figure size 360x360 with 1 Axes>"
      ]
     },
     "metadata": {
      "needs_background": "light"
     },
     "output_type": "display_data"
    }
   ],
   "source": [
    "bad_est= (df['company']=='ZES-GS')| (df['company']=='ZES-BA')|( df['company']=='ZES-CAT')|( df['company']=='ZES-TRV')\n",
    "df[bad_est]['EPS_ACT'].hist(bins=50,grid=False, figsize=(5, 5))"
   ]
  },
  {
   "cell_type": "markdown",
   "metadata": {},
   "source": [
    "смотрим на распределение ошибок в прогнозах "
   ]
  },
  {
   "cell_type": "code",
   "execution_count": 292,
   "metadata": {},
   "outputs": [
    {
     "data": {
      "text/plain": [
       "<matplotlib.axes._subplots.AxesSubplot at 0x150c2518>"
      ]
     },
     "execution_count": 292,
     "metadata": {},
     "output_type": "execute_result"
    },
    {
     "data": {
      "image/png": "[encoded data removed]",
      "text/plain": [
       "<Figure size 360x360 with 1 Axes>"
      ]
     },
     "metadata": {
      "needs_background": "light"
     },
     "output_type": "display_data"
    }
   ],
   "source": [
    "df.loc[~df['company'].isin(['ZES-GS','ZES-BA','ZES-CAT','ZES-TRV'])]['EPS_PCT_DIFF_SURP'].hist(bins=50,grid=False, figsize=(5, 5))\n",
    "#good_est= (df['company']!='ZES-GS')| (df['company']!='ZES-BA')|( df['company']!='ZES-CAT')|( df['company']!='ZES-TRV')\n",
    "df.loc[df['company'].isin(['ZES-GS','ZES-BA','ZES-CAT','ZES-TRV'])]['EPS_PCT_DIFF_SURP'].hist(bins=50,grid=False, figsize=(5, 5))"
   ]
  },
  {
   "cell_type": "markdown",
   "metadata": {},
   "source": [
    "пробуем линейную регрессию от EPS(t-1), ошибка по МНК регрессии больше, чем для прогнознозов (EPS_MEAN_EST)"
   ]
  },
  {
   "cell_type": "code",
   "execution_count": 324,
   "metadata": {},
   "outputs": [],
   "source": [
    "n_f=1\n",
    "X=np.asarray([])\n",
    "Xb=np.asarray([])\n",
    "Y=np.asarray([])\n",
    "Yb=np.asarray([])\n",
    "ESTb=np.asarray([])\n",
    "EST_=np.asarray([])\n",
    "\n",
    "for company, sub_df in df.groupby(['company']):\n",
    "    XX=np.asarray(sub_df['EPS_ACT'].shift(-1))\n",
    "    YY=np.asarray(sub_df['EPS_ACT'])\n",
    "    EST=np.asarray(sub_df['EPS_MEAN_EST'])\n",
    "    \n",
    "    XX=np.delete(XX,np.s_[XX.shape[0]-1:XX.shape[0]:1],0)   \n",
    "    YY=np.delete(YY,np.s_[YY.shape[0]-1:YY.shape[0]:1],0)\n",
    "    EST=np.delete(EST,np.s_[EST.shape[0]-1:EST.shape[0]:1],0)\n",
    "    \n",
    "    if (company=='ZES-GS')|(company=='ZES-BA')|(company=='ZES-CAT')|(company=='ZES-TRV'):\n",
    "        Xb=np.hstack([Xb,XX])\n",
    "        Yb=np.hstack([Yb,YY])\n",
    "        ESTb=np.hstack([ESTb,EST])\n",
    "        \n",
    "    else:\n",
    "        X=np.hstack([X,XX])\n",
    "        Y=np.hstack([Y,YY])\n",
    "        EST_=np.hstack([EST_,EST])"
   ]
  },
  {
   "cell_type": "code",
   "execution_count": 328,
   "metadata": {},
   "outputs": [
    {
     "name": "stdout",
     "output_type": "stream",
     "text": [
      "1.014850717597364 0.022281091131331608\n"
     ]
    },
    {
     "data": {
      "image/png": "[encoded data removed]",
      "text/plain": [
       "<Figure size 432x288 with 1 Axes>"
      ]
     },
     "metadata": {
      "needs_background": "light"
     },
     "output_type": "display_data"
    }
   ],
   "source": [
    "x_train, x_test, y_train, y_test, est_train,est_test = train_test_split(X, Y,EST_ ,test_size=0.2, random_state=42)\n",
    "\n",
    "A = np.vstack([x_train, np.ones(len(x_train))]).T\n",
    "p, l = np.linalg.lstsq(A,y_train,rcond=None)[0]\n",
    "print(p, l)\n",
    "#Plot the data along with the fitted line:\n",
    "plt.plot(x_train, y_train, 'o', label='train', markersize=5)\n",
    "plt.plot(x_test, y_test, 'o', label='test', markersize=5)\n",
    "plt.plot(x_train, bp*x_train+ bl, 'r', label='Fitted line')\n",
    "plt.legend()\n",
    "plt.show()"
   ]
  },
  {
   "cell_type": "code",
   "execution_count": 329,
   "metadata": {},
   "outputs": [
    {
     "data": {
      "text/plain": [
       "0.2733000000000001"
      ]
     },
     "execution_count": 329,
     "metadata": {},
     "output_type": "execute_result"
    }
   ],
   "source": [
    "((est_test-y_test)**2).sum()"
   ]
  },
  {
   "cell_type": "code",
   "execution_count": 330,
   "metadata": {},
   "outputs": [
    {
     "data": {
      "text/plain": [
       "1.118274579923999"
      ]
     },
     "execution_count": 330,
     "metadata": {},
     "output_type": "execute_result"
    }
   ],
   "source": [
    "((p*x_test+l-y_test)**2).sum()"
   ]
  },
  {
   "cell_type": "code",
   "execution_count": 331,
   "metadata": {},
   "outputs": [
    {
     "name": "stdout",
     "output_type": "stream",
     "text": [
      "1.014850717597364 0.022281091131331608\n"
     ]
    },
    {
     "data": {
      "image/png": "[encoded data removed]",
      "text/plain": [
       "<Figure size 432x288 with 1 Axes>"
      ]
     },
     "metadata": {
      "needs_background": "light"
     },
     "output_type": "display_data"
    }
   ],
   "source": [
    "x_train, x_test, y_train, y_test, est_train,est_test = train_test_split(Xb, Yb,ESTb ,test_size=0.2, random_state=42)\n",
    "\n",
    "A = np.vstack([x_train, np.ones(len(x_train))]).T\n",
    "p, l = np.linalg.lstsq(A,y_train,rcond=None)[0]\n",
    "print(bp, bl)\n",
    "#Plot the data along with the fitted line:\n",
    "plt.plot(x_train, y_train, 'o', label='train', markersize=5)\n",
    "plt.plot(x_test, y_test, 'o', label='test', markersize=5)\n",
    "plt.plot(x_train, p*x_train+ l, 'r', label='Fitted line')\n",
    "plt.legend()\n",
    "plt.show()"
   ]
  },
  {
   "cell_type": "code",
   "execution_count": 332,
   "metadata": {},
   "outputs": [
    {
     "data": {
      "text/plain": [
       "4.230900000000003"
      ]
     },
     "execution_count": 332,
     "metadata": {},
     "output_type": "execute_result"
    }
   ],
   "source": [
    "((est_test-y_test)**2).sum()"
   ]
  },
  {
   "cell_type": "code",
   "execution_count": 333,
   "metadata": {},
   "outputs": [
    {
     "data": {
      "text/plain": [
       "4.042287438563853"
      ]
     },
     "execution_count": 333,
     "metadata": {},
     "output_type": "execute_result"
    }
   ],
   "source": [
    "((bp*x_test+bl-y_test)**2).sum()"
   ]
  },
  {
   "cell_type": "markdown",
   "metadata": {},
   "source": [
    "Добавим еще одну переменную EPS_ACT(t-2)"
   ]
  },
  {
   "cell_type": "code",
   "execution_count": 336,
   "metadata": {},
   "outputs": [],
   "source": [
    "n_f=2\n",
    "X=np.asarray([]).reshape(-1,n_f)\n",
    "Xb=np.asarray([]).reshape(-1,n_f)\n",
    "Y=np.asarray([])\n",
    "Yb=np.asarray([])\n",
    "ESTb=np.asarray([])\n",
    "EST_=np.asarray([])\n",
    "\n",
    "for company, sub_df in df.groupby(['company']):\n",
    "    XX=np.vstack([np.asarray(sub_df['EPS_ACT'].shift(-2)),np.asarray(sub_df['EPS_ACT'].shift(-1))]).T\n",
    "    YY=np.asarray(sub_df['EPS_ACT'])\n",
    "    EST=np.asarray(sub_df['EPS_MEAN_EST'])\n",
    "    \n",
    "    XX=np.delete(XX,np.s_[XX.shape[0]-2:XX.shape[0]:1],0)   \n",
    "    YY=np.delete(YY,np.s_[YY.shape[0]-2:YY.shape[0]:1],0)\n",
    "    EST=np.delete(EST,np.s_[EST.shape[0]-2:EST.shape[0]:1],0)\n",
    "    \n",
    "    if (company=='ZES-GS')|(company=='ZES-BA')|(company=='ZES-CAT')|(company=='ZES-TRV'):\n",
    "        Xb=np.vstack([Xb,XX])\n",
    "        Yb=np.hstack([Yb,YY])\n",
    "        ESTb=np.hstack([ESTb,EST])\n",
    "        \n",
    "    else:\n",
    "        X=np.vstack([X,XX])\n",
    "        Y=np.hstack([Y,YY])\n",
    "        EST_=np.hstack([EST_,EST])"
   ]
  },
  {
   "cell_type": "code",
   "execution_count": 359,
   "metadata": {},
   "outputs": [
    {
     "name": "stdout",
     "output_type": "stream",
     "text": [
      "0.11122139947356813 0.9125448875227068 0.005289513425104031\n",
      "0.2640000000000001 0.9948160783500322\n"
     ]
    }
   ],
   "source": [
    "x_train, x_test, y_train, y_test, est_train,est_test = train_test_split(X, Y,EST_ ,test_size=0.2, random_state=42)\n",
    "A = np.vstack([x_train.T, np.ones(x_train.shape[0])]).T\n",
    "m,a,c = np.linalg.lstsq(A,y_train,rcond=None)[0]\n",
    "print(m,a, c)\n",
    "print(((est_test-y_test)**2).sum(),((m*x_test.T[0]+a*x_test.T[1]+c-y_test)**2).sum())"
   ]
  },
  {
   "cell_type": "code",
   "execution_count": 360,
   "metadata": {},
   "outputs": [
    {
     "data": {
      "image/png": "[encoded data removed]",
      "text/plain": [
       "<Figure size 432x288 with 1 Axes>"
      ]
     },
     "metadata": {
      "needs_background": "light"
     },
     "output_type": "display_data"
    }
   ],
   "source": [
    "plt.plot(y_train,label='EPS_ACT')\n",
    "plt.plot(m*x_train.T[0]+a*x_train.T[1]+c,label='model')\n",
    "plt.plot(est_train,'g',label='EPS_EST')\n",
    "plt.legend()\n",
    "plt.show()"
   ]
  },
  {
   "cell_type": "code",
   "execution_count": 368,
   "metadata": {},
   "outputs": [
    {
     "name": "stdout",
     "output_type": "stream",
     "text": [
      "0.11122139947356813 0.9125448875227068 0.005289513425104031\n",
      "2.695500000000001 3.337972332281318\n"
     ]
    }
   ],
   "source": [
    "x_train, x_test, y_train, y_test, est_train,est_test = train_test_split(Xb, Yb,ESTb ,test_size=0.2, random_state=42)\n",
    "A = np.vstack([x_train.T, np.ones(x_train.shape[0])]).T\n",
    "mb,ab,cb = np.linalg.lstsq(A,y_train,rcond=None)[0]\n",
    "print(m,a, c)\n",
    "print(((est_test-y_test)**2).sum(),((mb*x_test.T[0]+ab*x_test.T[1]+cb-y_test)**2).sum())"
   ]
  },
  {
   "cell_type": "code",
   "execution_count": 369,
   "metadata": {},
   "outputs": [
    {
     "data": {
      "image/png": "[encoded data removed]",
      "text/plain": [
       "<Figure size 432x288 with 1 Axes>"
      ]
     },
     "metadata": {
      "needs_background": "light"
     },
     "output_type": "display_data"
    }
   ],
   "source": [
    "plt.plot(y_train,label='EPS_ACT')\n",
    "plt.plot(mb*x_train.T[0]+ab*x_train.T[1]+cb,label='model')\n",
    "plt.plot(est_train,'g',label='EPS_EST')\n",
    "plt.legend()\n",
    "plt.show()"
   ]
  },
  {
   "cell_type": "code",
   "execution_count": 373,
   "metadata": {},
   "outputs": [
    {
     "name": "stdout",
     "output_type": "stream",
     "text": [
      "1.74 2.033029972429753\n",
      "5.48 4.06798979746131\n",
      "2.55 3.076022268893982\n",
      "0.17 0.1519534355887896\n",
      "6.04 5.776991963692769\n",
      "1.28 0.9598178546464804\n",
      "1.97 2.1407399341857176\n",
      "1.98 2.643751836317942\n",
      "0.43 0.4911362612096376\n",
      "2.31 2.2971860453846826\n",
      "0.52 0.6836551646668001\n",
      "1.25 1.1116138435411336\n",
      "2.13 2.886292450928946\n",
      "3.28 3.773888134158104\n",
      "1.95 1.9651319775669318\n",
      "1.3 1.3453111353954887\n",
      "1.12 1.2249113458627485\n"
     ]
    }
   ],
   "source": [
    "Xall_pred=np.asarray([]).reshape(-1,2)\n",
    "\n",
    "for company, sub_df in df.groupby(['company']):\n",
    "    XX=np.vstack([np.asarray(sub_df['EPS_ACT'].shift(-1)),np.asarray(sub_df['EPS_ACT'])]).T[0]\n",
    "        \n",
    "    Xall_pred=np.vstack([Xall_pred,XX])\n",
    "    comp=np.append(comp,company)\n",
    "    if (company=='ZES-GS')|(company=='ZES-BA')|(company=='ZES-CAT')|(company=='ZES-TRV'):\n",
    "        model0_=mb*XX.T[0]+ab*XX.T[1]+cb\n",
    "        print(XX.T[0],model0_)\n",
    "    else:\n",
    "        model0_=m*XX.T[0]+a*XX.T[1]+c\n",
    "        print(XX.T[0],model0_)\n",
    "        \n",
    "    model0=np.append(model0,model0_)"
   ]
  },
  {
   "cell_type": "markdown",
   "metadata": {},
   "source": [
    "для хорошо прогнозируемой группы можно использовать регрессию, для плохо прогнозируемой -с натяжкой"
   ]
  },
  {
   "cell_type": "markdown",
   "metadata": {},
   "source": [
    "Нейронная сеть. надежда на то, что нелинейность найдет закономерности и увеличит точность\n",
    "тк данных немного берем самую простую полносвязную модель\n",
    "Параметры для оптимизации:\n",
    "1. шаг обучения. learning rate, кол-во эпох, размер батча\n",
    "2. количество признаков(оптимально 4)\n",
    "3. функция активации(RELU,CELU- лучше прогнозная способность)\n",
    "4. нормализация батчей(ухудшает обучаемость)\n",
    "5. количество внутренних слоев(большое кол-во приводит к нестабильности)\n",
    "6. в качестве признаков использование изменение EPS, нормирование EPS на среднее в истории значение (обучаемость упала)"
   ]
  },
  {
   "cell_type": "code",
   "execution_count": 375,
   "metadata": {},
   "outputs": [],
   "source": [
    "n_f=4\n",
    "X=np.asarray([]).reshape(-1,n_f)\n",
    "Xb=np.asarray([]).reshape(-1,n_f)\n",
    "Y=np.asarray([])\n",
    "Yb=np.asarray([])\n",
    "Xall=np.asarray([]).reshape(-1,n_f)\n",
    "Yall=np.asarray([])\n",
    "EPS=np.asarray([])\n",
    "\n",
    "for company, sub_df in df.groupby(['company']):\n",
    "    XX=np.vstack([np.asarray(sub_df['EPS_ACT'].shift(-4)),np.asarray(sub_df['EPS_ACT'].shift(-3)), \n",
    "                  np.asarray(sub_df['EPS_ACT'].shift(-2)),np.asarray(sub_df['EPS_ACT'].shift(-1))]).T   \n",
    "    \n",
    "    YY=np.asarray(sub_df['EPS_ACT'])\n",
    "    EPS_=np.asarray(sub_df['EPS_MEAN_EST'])   \n",
    "    \n",
    " \n",
    "    XX=np.delete(XX,np.s_[XX.shape[0]-4:XX.shape[0]:1],0)   \n",
    "    YY=np.delete(YY,np.s_[YY.shape[0]-4:YY.shape[0]:1],0)\n",
    "    EPS_=np.delete(EPS_,np.s_[EPS_.shape[0]-4:EPS_.shape[0]:1],0)  \n",
    "    EPS=np.hstack([EPS,EPS_])\n",
    "    \n",
    "    if (company=='ZES-GS')|(company=='ZES-BA')|(company=='ZES-CAT')|(company=='ZES-TRV'):\n",
    "        Xb=np.vstack([Xb,XX])\n",
    "        Yb=np.hstack([Yb,YY])\n",
    "        Xall=np.vstack([Xall,XX])\n",
    "        Yall=np.hstack([Yall,YY])\n",
    "    else:\n",
    "        X=np.vstack([X,XX])\n",
    "        Y=np.hstack([Y,YY])\n",
    "        Xall=np.vstack([Xall,XX])\n",
    "        Yall=np.hstack([Yall,YY])"
   ]
  },
  {
   "cell_type": "code",
   "execution_count": 376,
   "metadata": {},
   "outputs": [
    {
     "name": "stdout",
     "output_type": "stream",
     "text": [
      "136 136\n"
     ]
    }
   ],
   "source": [
    "Xall= torch.as_tensor(Xall,dtype=torch.float32)\n",
    "Yall= torch.as_tensor(Yall.reshape(-1,1),dtype=torch.float32)\n",
    "EPS= torch.as_tensor(EPS.reshape(-1,1),dtype=torch.float32)\n",
    "print(Yall.shape[0],EPS.shape[0])"
   ]
  },
  {
   "cell_type": "code",
   "execution_count": 377,
   "metadata": {},
   "outputs": [],
   "source": [
    "x_trainb_2, x_testb_2, y_trainb_2, y_testb_2= train_test_split(Xb, Yb,  test_size=0.2, random_state=30)\n",
    "x_train_2, x_test_2, y_train_2, y_test_2  = train_test_split(X, Y, test_size=0.2, random_state=30)\n",
    "x_train_2= torch.as_tensor(np.vstack([x_train_2,x_trainb_2]),dtype=torch.float32)\n",
    "y_train_2= torch.as_tensor(np.hstack([y_train_2,y_trainb_2]).reshape(-1,1),dtype=torch.float32)\n",
    "x_test_2= torch.as_tensor(np.vstack([x_test_2,x_testb_2]),dtype=torch.float32)\n",
    "y_test_2= torch.as_tensor(np.hstack([y_test_2,y_testb_2]).reshape(-1,1),dtype=torch.float32)"
   ]
  },
  {
   "cell_type": "code",
   "execution_count": 378,
   "metadata": {},
   "outputs": [],
   "source": [
    "mean=torch.as_tensor(x_train_2.mean())\n",
    "sigm=x_train_2.std()\n",
    "data_train2 = utils.TensorDataset((x_train_2-mean)/sigm,y_train_2) # Создание датасета\n",
    "batch_size = 5\n",
    "\n",
    "data_size2 = x_train_2.shape[0]\n",
    "validation_split = .2\n",
    "split = int(np.floor(validation_split * data_size2))\n",
    "indices = list(range(data_size2))\n",
    "np.random.shuffle(indices)\n",
    "\n",
    "train_indices, val_indices = indices[split:], indices[:split]\n",
    "\n",
    "train_sampler = utils.SubsetRandomSampler(train_indices)\n",
    "val_sampler =utils.SubsetRandomSampler(val_indices)\n",
    "\n",
    "train_loader2 = utils.DataLoader(data_train2, batch_size=batch_size, \n",
    "                                           sampler=train_sampler)\n",
    "val_loader2 = utils.DataLoader(data_train2, batch_size=batch_size,\n",
    "                                         sampler=val_sampler)"
   ]
  },
  {
   "cell_type": "code",
   "execution_count": 379,
   "metadata": {},
   "outputs": [
    {
     "name": "stdout",
     "output_type": "stream",
     "text": [
      "tensor(1.7146) tensor(1.2711)\n"
     ]
    }
   ],
   "source": [
    "print(mean, sigm)"
   ]
  },
  {
   "cell_type": "code",
   "execution_count": 380,
   "metadata": {},
   "outputs": [],
   "source": [
    "def train_model(model,train_loader, val_loader, loss, optimizer, num_epochs):\n",
    "    loss_history = []\n",
    "    val_history = []\n",
    "    for epoch in range(num_epochs):\n",
    "        model.train() # Enter train mode        \n",
    "        loss_accum = 0\n",
    "        total_samples = 0\n",
    "        for i_step, (x, y) in enumerate(train_loader):\n",
    "            prediction = model(x)    \n",
    "            loss_value = loss(prediction, y)\n",
    "            optimizer.zero_grad()\n",
    "            loss_value.backward()\n",
    "            optimizer.step()\n",
    "            \n",
    "            total_samples += y.shape[0]            \n",
    "            loss_accum += loss_value\n",
    "\n",
    "        ave_loss = loss_accum / (i_step + 1)        \n",
    "        val_loss = compute_loss(model, val_loader)\n",
    "        \n",
    "        loss_history.append(float(ave_loss))\n",
    "        val_history.append(val_loss)\n",
    "        \n",
    "        print(\"Average loss: %f, Val loss: %f\" % (ave_loss, val_loss))\n",
    "        \n",
    "    return loss_history, val_history\n"
   ]
  },
  {
   "cell_type": "code",
   "execution_count": 381,
   "metadata": {},
   "outputs": [],
   "source": [
    "def compute_loss(model, loader):\n",
    "    \n",
    "    model.eval() # Evaluation mode\n",
    "    \n",
    "    total_samples =0\n",
    "    loss_=torch.tensor([0])\n",
    "    loss=0\n",
    "    for i_step, (x, y) in enumerate(loader):        \n",
    "        prediction = model(x) \n",
    "        total_samples += y.shape[0]\n",
    "        loss_+= torch.sum((prediction -y)**2)\n",
    "    loss=(float(loss_.item())/total_samples) \n",
    "    return loss"
   ]
  },
  {
   "cell_type": "code",
   "execution_count": 390,
   "metadata": {},
   "outputs": [
    {
     "name": "stdout",
     "output_type": "stream",
     "text": [
      "Average loss: 7.812645, Val loss: 10.571429\n",
      "Average loss: 6.984886, Val loss: 9.476190\n",
      "Average loss: 6.187726, Val loss: 8.523810\n",
      "Average loss: 5.612497, Val loss: 7.666667\n",
      "Average loss: 4.894040, Val loss: 6.857143\n",
      "Average loss: 4.432928, Val loss: 6.142857\n",
      "Average loss: 3.955092, Val loss: 5.428571\n",
      "Average loss: 3.417409, Val loss: 4.761905\n",
      "Average loss: 3.067962, Val loss: 4.190476\n",
      "Average loss: 2.603542, Val loss: 3.571429\n",
      "Average loss: 2.264260, Val loss: 3.142857\n",
      "Average loss: 1.869018, Val loss: 2.619048\n",
      "Average loss: 1.605752, Val loss: 2.285714\n",
      "Average loss: 1.467990, Val loss: 1.857143\n",
      "Average loss: 1.085967, Val loss: 1.523810\n",
      "Average loss: 0.909502, Val loss: 1.333333\n",
      "Average loss: 0.780251, Val loss: 1.095238\n",
      "Average loss: 0.642965, Val loss: 0.952381\n",
      "Average loss: 0.553746, Val loss: 0.857143\n",
      "Average loss: 0.473016, Val loss: 0.714286\n",
      "Average loss: 0.411811, Val loss: 0.619048\n",
      "Average loss: 0.370438, Val loss: 0.523810\n",
      "Average loss: 0.328696, Val loss: 0.523810\n",
      "Average loss: 0.300568, Val loss: 0.428571\n",
      "Average loss: 0.274174, Val loss: 0.380952\n",
      "Average loss: 0.257198, Val loss: 0.428571\n",
      "Average loss: 0.281851, Val loss: 0.333333\n",
      "Average loss: 0.233491, Val loss: 0.333333\n",
      "Average loss: 0.222894, Val loss: 0.285714\n",
      "Average loss: 0.216457, Val loss: 0.285714\n",
      "Average loss: 0.208990, Val loss: 0.285714\n",
      "Average loss: 0.220660, Val loss: 0.333333\n",
      "Average loss: 0.201460, Val loss: 0.333333\n",
      "Average loss: 0.206660, Val loss: 0.285714\n",
      "Average loss: 0.193579, Val loss: 0.285714\n",
      "Average loss: 0.191760, Val loss: 0.238095\n",
      "Average loss: 0.193714, Val loss: 0.285714\n",
      "Average loss: 0.188289, Val loss: 0.285714\n",
      "Average loss: 0.185915, Val loss: 0.238095\n",
      "Average loss: 0.186334, Val loss: 0.238095\n",
      "Average loss: 0.187412, Val loss: 0.238095\n",
      "Average loss: 0.183742, Val loss: 0.238095\n",
      "Average loss: 0.184060, Val loss: 0.238095\n",
      "Average loss: 0.182231, Val loss: 0.238095\n",
      "Average loss: 0.185696, Val loss: 0.238095\n",
      "Average loss: 0.192693, Val loss: 0.238095\n",
      "Average loss: 0.192919, Val loss: 0.190476\n",
      "Average loss: 0.180754, Val loss: 0.238095\n",
      "Average loss: 0.180508, Val loss: 0.238095\n",
      "Average loss: 0.234429, Val loss: 0.238095\n",
      "Average loss: 0.182143, Val loss: 0.238095\n",
      "Average loss: 0.182682, Val loss: 0.238095\n",
      "Average loss: 0.181264, Val loss: 0.238095\n",
      "Average loss: 0.180089, Val loss: 0.238095\n",
      "Average loss: 0.178151, Val loss: 0.238095\n",
      "Average loss: 0.180894, Val loss: 0.238095\n",
      "Average loss: 0.177221, Val loss: 0.238095\n",
      "Average loss: 0.208821, Val loss: 0.238095\n",
      "Average loss: 0.176556, Val loss: 0.190476\n",
      "Average loss: 0.181782, Val loss: 0.238095\n",
      "Average loss: 0.175773, Val loss: 0.190476\n",
      "Average loss: 0.176315, Val loss: 0.238095\n",
      "Average loss: 0.175797, Val loss: 0.190476\n",
      "Average loss: 0.176390, Val loss: 0.190476\n",
      "Average loss: 0.179521, Val loss: 0.190476\n",
      "Average loss: 0.176300, Val loss: 0.190476\n",
      "Average loss: 0.206964, Val loss: 0.238095\n",
      "Average loss: 0.177740, Val loss: 0.238095\n",
      "Average loss: 0.174228, Val loss: 0.238095\n",
      "Average loss: 0.173745, Val loss: 0.238095\n",
      "Average loss: 0.225702, Val loss: 0.238095\n",
      "Average loss: 0.178217, Val loss: 0.190476\n",
      "Average loss: 0.241819, Val loss: 0.238095\n",
      "Average loss: 0.241690, Val loss: 0.190476\n",
      "Average loss: 0.173905, Val loss: 0.190476\n",
      "Average loss: 0.250148, Val loss: 0.190476\n",
      "Average loss: 0.173770, Val loss: 0.190476\n",
      "Average loss: 0.173146, Val loss: 0.190476\n",
      "Average loss: 0.176822, Val loss: 0.238095\n",
      "Average loss: 0.174113, Val loss: 0.190476\n",
      "Average loss: 0.192936, Val loss: 0.190476\n",
      "Average loss: 0.171657, Val loss: 0.190476\n",
      "Average loss: 0.173750, Val loss: 0.190476\n",
      "Average loss: 0.173445, Val loss: 0.190476\n",
      "Average loss: 0.171815, Val loss: 0.190476\n",
      "Average loss: 0.173399, Val loss: 0.190476\n",
      "Average loss: 0.177321, Val loss: 0.190476\n",
      "Average loss: 0.175351, Val loss: 0.190476\n",
      "Average loss: 0.176442, Val loss: 0.238095\n",
      "Average loss: 0.172695, Val loss: 0.190476\n",
      "Average loss: 0.174903, Val loss: 0.238095\n",
      "Average loss: 0.172213, Val loss: 0.190476\n",
      "Average loss: 0.172185, Val loss: 0.190476\n",
      "Average loss: 0.238411, Val loss: 0.190476\n",
      "Average loss: 0.171311, Val loss: 0.190476\n",
      "Average loss: 0.171383, Val loss: 0.190476\n",
      "Average loss: 0.171484, Val loss: 0.238095\n",
      "Average loss: 0.170431, Val loss: 0.190476\n",
      "Average loss: 0.181259, Val loss: 0.238095\n",
      "Average loss: 0.170736, Val loss: 0.190476\n",
      "Average loss: 0.169307, Val loss: 0.238095\n",
      "Average loss: 0.203560, Val loss: 0.190476\n",
      "Average loss: 0.170408, Val loss: 0.190476\n",
      "Average loss: 0.169724, Val loss: 0.190476\n",
      "Average loss: 0.169189, Val loss: 0.190476\n",
      "Average loss: 0.171582, Val loss: 0.190476\n",
      "Average loss: 0.170121, Val loss: 0.190476\n",
      "Average loss: 0.169837, Val loss: 0.238095\n",
      "Average loss: 0.169599, Val loss: 0.190476\n",
      "Average loss: 0.179623, Val loss: 0.190476\n",
      "Average loss: 0.168723, Val loss: 0.238095\n",
      "Average loss: 0.242395, Val loss: 0.190476\n",
      "Average loss: 0.168499, Val loss: 0.190476\n",
      "Average loss: 0.172899, Val loss: 0.190476\n",
      "Average loss: 0.173602, Val loss: 0.238095\n",
      "Average loss: 0.169993, Val loss: 0.190476\n",
      "Average loss: 0.169510, Val loss: 0.190476\n",
      "Average loss: 0.173446, Val loss: 0.190476\n",
      "Average loss: 0.213676, Val loss: 0.190476\n",
      "Average loss: 0.174942, Val loss: 0.190476\n",
      "Average loss: 0.169722, Val loss: 0.190476\n",
      "Average loss: 0.169805, Val loss: 0.190476\n",
      "Average loss: 0.171797, Val loss: 0.238095\n",
      "Average loss: 0.236875, Val loss: 0.190476\n",
      "Average loss: 0.168023, Val loss: 0.142857\n",
      "Average loss: 0.168766, Val loss: 0.190476\n",
      "Average loss: 0.167640, Val loss: 0.190476\n",
      "Average loss: 0.168627, Val loss: 0.190476\n",
      "Average loss: 0.168426, Val loss: 0.190476\n",
      "Average loss: 0.170225, Val loss: 0.190476\n",
      "Average loss: 0.173784, Val loss: 0.190476\n",
      "Average loss: 0.168299, Val loss: 0.190476\n",
      "Average loss: 0.167934, Val loss: 0.190476\n",
      "Average loss: 0.168081, Val loss: 0.190476\n",
      "Average loss: 0.170294, Val loss: 0.142857\n",
      "Average loss: 0.168003, Val loss: 0.190476\n",
      "Average loss: 0.168382, Val loss: 0.190476\n",
      "Average loss: 0.172235, Val loss: 0.142857\n",
      "Average loss: 0.167453, Val loss: 0.238095\n",
      "Average loss: 0.167774, Val loss: 0.190476\n",
      "Average loss: 0.168235, Val loss: 0.190476\n",
      "Average loss: 0.168176, Val loss: 0.238095\n",
      "Average loss: 0.170426, Val loss: 0.190476\n",
      "Average loss: 0.167869, Val loss: 0.238095\n",
      "Average loss: 0.167971, Val loss: 0.190476\n",
      "Average loss: 0.168695, Val loss: 0.190476\n",
      "Average loss: 0.167255, Val loss: 0.190476\n",
      "Average loss: 0.166126, Val loss: 0.190476\n",
      "Average loss: 0.169707, Val loss: 0.190476\n",
      "Average loss: 0.172037, Val loss: 0.190476\n",
      "Average loss: 0.167070, Val loss: 0.190476\n",
      "Average loss: 0.237044, Val loss: 0.190476\n",
      "Average loss: 0.165583, Val loss: 0.142857\n",
      "Average loss: 0.166998, Val loss: 0.190476\n",
      "Average loss: 0.166017, Val loss: 0.190476\n",
      "Average loss: 0.165765, Val loss: 0.142857\n",
      "Average loss: 0.168321, Val loss: 0.190476\n",
      "Average loss: 0.234920, Val loss: 0.190476\n",
      "Average loss: 0.165733, Val loss: 0.190476\n",
      "Average loss: 0.166440, Val loss: 0.190476\n",
      "Average loss: 0.166036, Val loss: 0.190476\n",
      "Average loss: 0.165310, Val loss: 0.142857\n",
      "Average loss: 0.168092, Val loss: 0.190476\n",
      "Average loss: 0.176231, Val loss: 0.190476\n",
      "Average loss: 0.165682, Val loss: 0.190476\n",
      "Average loss: 0.166432, Val loss: 0.190476\n",
      "Average loss: 0.178513, Val loss: 0.190476\n",
      "Average loss: 0.166603, Val loss: 0.190476\n",
      "Average loss: 0.233737, Val loss: 0.190476\n",
      "Average loss: 0.187426, Val loss: 0.190476\n",
      "Average loss: 0.165637, Val loss: 0.190476\n",
      "Average loss: 0.165564, Val loss: 0.190476\n",
      "Average loss: 0.164304, Val loss: 0.190476\n",
      "Average loss: 0.171166, Val loss: 0.190476\n",
      "Average loss: 0.165300, Val loss: 0.190476\n",
      "Average loss: 0.175590, Val loss: 0.190476\n",
      "Average loss: 0.168842, Val loss: 0.142857\n",
      "Average loss: 0.165296, Val loss: 0.190476\n",
      "Average loss: 0.167811, Val loss: 0.190476\n",
      "Average loss: 0.206093, Val loss: 0.190476\n",
      "Average loss: 0.168849, Val loss: 0.142857\n",
      "Average loss: 0.166249, Val loss: 0.190476\n",
      "Average loss: 0.165820, Val loss: 0.190476\n",
      "Average loss: 0.165414, Val loss: 0.142857\n",
      "Average loss: 0.173144, Val loss: 0.190476\n",
      "Average loss: 0.176417, Val loss: 0.190476\n",
      "Average loss: 0.170779, Val loss: 0.142857\n",
      "Average loss: 0.165518, Val loss: 0.190476\n",
      "Average loss: 0.167611, Val loss: 0.190476\n",
      "Average loss: 0.166761, Val loss: 0.142857\n",
      "Average loss: 0.175242, Val loss: 0.190476\n",
      "Average loss: 0.165901, Val loss: 0.142857\n"
     ]
    },
    {
     "name": "stdout",
     "output_type": "stream",
     "text": [
      "Average loss: 0.165858, Val loss: 0.190476\n",
      "Average loss: 0.164980, Val loss: 0.190476\n",
      "Average loss: 0.204930, Val loss: 0.190476\n",
      "Average loss: 0.168088, Val loss: 0.190476\n",
      "Average loss: 0.165826, Val loss: 0.190476\n",
      "Average loss: 0.165687, Val loss: 0.190476\n",
      "Average loss: 0.165916, Val loss: 0.190476\n",
      "Average loss: 0.166397, Val loss: 0.190476\n",
      "Average loss: 0.170879, Val loss: 0.190476\n",
      "Average loss: 0.167854, Val loss: 0.190476\n",
      "Average loss: 0.164865, Val loss: 0.190476\n",
      "Average loss: 0.165367, Val loss: 0.190476\n",
      "Average loss: 0.209309, Val loss: 0.142857\n",
      "Average loss: 0.166664, Val loss: 0.142857\n",
      "Average loss: 0.165502, Val loss: 0.190476\n",
      "Average loss: 0.165798, Val loss: 0.142857\n",
      "Average loss: 0.166379, Val loss: 0.142857\n",
      "Average loss: 0.166165, Val loss: 0.142857\n",
      "Average loss: 0.202555, Val loss: 0.190476\n",
      "Average loss: 0.166336, Val loss: 0.142857\n",
      "Average loss: 0.178411, Val loss: 0.142857\n",
      "Average loss: 0.166486, Val loss: 0.190476\n",
      "Average loss: 0.179066, Val loss: 0.190476\n",
      "Average loss: 0.163875, Val loss: 0.190476\n",
      "Average loss: 0.164813, Val loss: 0.190476\n",
      "Average loss: 0.169402, Val loss: 0.190476\n",
      "Average loss: 0.164519, Val loss: 0.190476\n",
      "Average loss: 0.169528, Val loss: 0.190476\n",
      "Average loss: 0.167320, Val loss: 0.190476\n",
      "Average loss: 0.236814, Val loss: 0.190476\n",
      "Average loss: 0.169054, Val loss: 0.190476\n",
      "Average loss: 0.165402, Val loss: 0.190476\n",
      "Average loss: 0.164382, Val loss: 0.142857\n",
      "Average loss: 0.169532, Val loss: 0.190476\n",
      "Average loss: 0.175515, Val loss: 0.190476\n",
      "Average loss: 0.163515, Val loss: 0.190476\n",
      "Average loss: 0.166054, Val loss: 0.142857\n",
      "Average loss: 0.164379, Val loss: 0.190476\n",
      "Average loss: 0.164313, Val loss: 0.190476\n",
      "Average loss: 0.200978, Val loss: 0.190476\n",
      "Average loss: 0.163966, Val loss: 0.190476\n",
      "Average loss: 0.170735, Val loss: 0.190476\n",
      "Average loss: 0.163427, Val loss: 0.142857\n",
      "Average loss: 0.162950, Val loss: 0.190476\n",
      "Average loss: 0.163718, Val loss: 0.190476\n",
      "Average loss: 0.201967, Val loss: 0.142857\n",
      "Average loss: 0.164985, Val loss: 0.142857\n",
      "Average loss: 0.165668, Val loss: 0.190476\n",
      "Average loss: 0.164593, Val loss: 0.142857\n",
      "Average loss: 0.164181, Val loss: 0.142857\n",
      "Average loss: 0.164727, Val loss: 0.142857\n",
      "Average loss: 0.163892, Val loss: 0.142857\n",
      "Average loss: 0.165416, Val loss: 0.142857\n",
      "Average loss: 0.164403, Val loss: 0.190476\n",
      "Average loss: 0.177154, Val loss: 0.190476\n",
      "Average loss: 0.163493, Val loss: 0.190476\n",
      "Average loss: 0.201782, Val loss: 0.190476\n",
      "Average loss: 0.163788, Val loss: 0.190476\n",
      "Average loss: 0.177172, Val loss: 0.142857\n",
      "Average loss: 0.173724, Val loss: 0.190476\n",
      "Average loss: 0.164081, Val loss: 0.190476\n",
      "Average loss: 0.166451, Val loss: 0.142857\n",
      "Average loss: 0.163396, Val loss: 0.142857\n",
      "Average loss: 0.164209, Val loss: 0.190476\n",
      "Average loss: 0.165416, Val loss: 0.142857\n",
      "Average loss: 0.164411, Val loss: 0.190476\n",
      "Average loss: 0.165029, Val loss: 0.190476\n",
      "Average loss: 0.163886, Val loss: 0.190476\n",
      "Average loss: 0.163734, Val loss: 0.142857\n",
      "Average loss: 0.170557, Val loss: 0.190476\n",
      "Average loss: 0.170107, Val loss: 0.190476\n",
      "Average loss: 0.165291, Val loss: 0.142857\n",
      "Average loss: 0.163455, Val loss: 0.190476\n",
      "Average loss: 0.167002, Val loss: 0.190476\n",
      "Average loss: 0.165134, Val loss: 0.190476\n",
      "Average loss: 0.164969, Val loss: 0.142857\n",
      "Average loss: 0.163628, Val loss: 0.190476\n",
      "Average loss: 0.162959, Val loss: 0.190476\n",
      "Average loss: 0.162665, Val loss: 0.142857\n",
      "Average loss: 0.165911, Val loss: 0.142857\n",
      "Average loss: 0.166977, Val loss: 0.142857\n",
      "Average loss: 0.165300, Val loss: 0.142857\n",
      "Average loss: 0.162813, Val loss: 0.142857\n",
      "Average loss: 0.163144, Val loss: 0.190476\n",
      "Average loss: 0.168791, Val loss: 0.190476\n",
      "Average loss: 0.169362, Val loss: 0.190476\n",
      "Average loss: 0.166274, Val loss: 0.142857\n",
      "Average loss: 0.162980, Val loss: 0.142857\n",
      "Average loss: 0.163378, Val loss: 0.190476\n",
      "Average loss: 0.165066, Val loss: 0.190476\n",
      "Average loss: 0.169239, Val loss: 0.190476\n",
      "Average loss: 0.162856, Val loss: 0.190476\n",
      "Average loss: 0.164961, Val loss: 0.142857\n",
      "Average loss: 0.165397, Val loss: 0.142857\n",
      "Average loss: 0.163833, Val loss: 0.190476\n",
      "Average loss: 0.164444, Val loss: 0.190476\n",
      "Average loss: 0.162554, Val loss: 0.142857\n",
      "Average loss: 0.168398, Val loss: 0.142857\n",
      "Average loss: 0.164205, Val loss: 0.190476\n",
      "Average loss: 0.163202, Val loss: 0.190476\n",
      "Average loss: 0.162744, Val loss: 0.142857\n",
      "Average loss: 0.162993, Val loss: 0.142857\n",
      "Average loss: 0.162339, Val loss: 0.190476\n",
      "Average loss: 0.163180, Val loss: 0.142857\n",
      "Average loss: 0.163491, Val loss: 0.142857\n",
      "Average loss: 0.163323, Val loss: 0.142857\n",
      "Average loss: 0.164298, Val loss: 0.142857\n",
      "Average loss: 0.163691, Val loss: 0.142857\n",
      "Average loss: 0.163682, Val loss: 0.142857\n",
      "Average loss: 0.164549, Val loss: 0.142857\n",
      "Average loss: 0.164671, Val loss: 0.142857\n",
      "Average loss: 0.164261, Val loss: 0.142857\n",
      "Average loss: 0.163522, Val loss: 0.190476\n",
      "Average loss: 0.165220, Val loss: 0.142857\n",
      "Average loss: 0.162474, Val loss: 0.142857\n",
      "Average loss: 0.168877, Val loss: 0.142857\n",
      "Average loss: 0.162703, Val loss: 0.142857\n",
      "Average loss: 0.163288, Val loss: 0.142857\n",
      "Average loss: 0.164119, Val loss: 0.142857\n",
      "Average loss: 0.163508, Val loss: 0.190476\n",
      "Average loss: 0.163712, Val loss: 0.142857\n",
      "Average loss: 0.163527, Val loss: 0.190476\n",
      "Average loss: 0.168396, Val loss: 0.142857\n",
      "Average loss: 0.163784, Val loss: 0.142857\n",
      "Average loss: 0.164039, Val loss: 0.190476\n",
      "Average loss: 0.165435, Val loss: 0.142857\n",
      "Average loss: 0.169241, Val loss: 0.190476\n",
      "Average loss: 0.170060, Val loss: 0.190476\n",
      "Average loss: 0.163668, Val loss: 0.190476\n",
      "Average loss: 0.168560, Val loss: 0.190476\n",
      "Average loss: 0.169289, Val loss: 0.142857\n",
      "Average loss: 0.163440, Val loss: 0.142857\n",
      "Average loss: 0.176205, Val loss: 0.142857\n",
      "Average loss: 0.163635, Val loss: 0.142857\n",
      "Average loss: 0.201651, Val loss: 0.142857\n",
      "Average loss: 0.163479, Val loss: 0.190476\n",
      "Average loss: 0.163069, Val loss: 0.142857\n",
      "Average loss: 0.165436, Val loss: 0.142857\n",
      "Average loss: 0.164416, Val loss: 0.142857\n",
      "Average loss: 0.164041, Val loss: 0.142857\n",
      "Average loss: 0.162997, Val loss: 0.190476\n",
      "Average loss: 0.163860, Val loss: 0.190476\n",
      "Average loss: 0.165179, Val loss: 0.142857\n",
      "Average loss: 0.163610, Val loss: 0.142857\n",
      "Average loss: 0.165005, Val loss: 0.190476\n",
      "Average loss: 0.162524, Val loss: 0.142857\n",
      "Average loss: 0.163867, Val loss: 0.142857\n",
      "Average loss: 0.166954, Val loss: 0.142857\n",
      "Average loss: 0.215100, Val loss: 0.190476\n",
      "Average loss: 0.163197, Val loss: 0.142857\n",
      "Average loss: 0.162855, Val loss: 0.142857\n",
      "Average loss: 0.232133, Val loss: 0.142857\n",
      "Average loss: 0.231518, Val loss: 0.142857\n",
      "Average loss: 0.161857, Val loss: 0.190476\n",
      "Average loss: 0.162538, Val loss: 0.142857\n",
      "Average loss: 0.178763, Val loss: 0.190476\n",
      "Average loss: 0.168063, Val loss: 0.142857\n",
      "Average loss: 0.165495, Val loss: 0.142857\n",
      "Average loss: 0.164095, Val loss: 0.142857\n",
      "Average loss: 0.162597, Val loss: 0.142857\n",
      "Average loss: 0.175303, Val loss: 0.142857\n",
      "Average loss: 0.163432, Val loss: 0.142857\n",
      "Average loss: 0.169413, Val loss: 0.190476\n",
      "Average loss: 0.162737, Val loss: 0.142857\n",
      "Average loss: 0.232615, Val loss: 0.142857\n",
      "Average loss: 0.232602, Val loss: 0.142857\n",
      "Average loss: 0.162064, Val loss: 0.142857\n",
      "Average loss: 0.162184, Val loss: 0.142857\n",
      "Average loss: 0.162757, Val loss: 0.142857\n",
      "Average loss: 0.161895, Val loss: 0.142857\n",
      "Average loss: 0.162856, Val loss: 0.142857\n",
      "Average loss: 0.161988, Val loss: 0.142857\n",
      "Average loss: 0.162590, Val loss: 0.142857\n",
      "Average loss: 0.162944, Val loss: 0.142857\n",
      "Average loss: 0.163130, Val loss: 0.190476\n",
      "Average loss: 0.165757, Val loss: 0.142857\n",
      "Average loss: 0.197881, Val loss: 0.142857\n",
      "Average loss: 0.166823, Val loss: 0.142857\n",
      "Average loss: 0.162967, Val loss: 0.142857\n",
      "Average loss: 0.163003, Val loss: 0.142857\n",
      "Average loss: 0.169318, Val loss: 0.190476\n",
      "Average loss: 0.172366, Val loss: 0.190476\n",
      "Average loss: 0.162999, Val loss: 0.142857\n",
      "Average loss: 0.175420, Val loss: 0.142857\n",
      "Average loss: 0.164035, Val loss: 0.142857\n",
      "Average loss: 0.162610, Val loss: 0.142857\n",
      "Average loss: 0.166175, Val loss: 0.190476\n",
      "Average loss: 0.174112, Val loss: 0.142857\n",
      "Average loss: 0.163996, Val loss: 0.190476\n",
      "Average loss: 0.163256, Val loss: 0.142857\n",
      "Average loss: 0.163285, Val loss: 0.142857\n",
      "Average loss: 0.166414, Val loss: 0.142857\n"
     ]
    },
    {
     "name": "stdout",
     "output_type": "stream",
     "text": [
      "Average loss: 0.163100, Val loss: 0.142857\n",
      "Average loss: 0.164184, Val loss: 0.142857\n",
      "Average loss: 0.172767, Val loss: 0.142857\n",
      "Average loss: 0.163905, Val loss: 0.142857\n",
      "Average loss: 0.177622, Val loss: 0.142857\n",
      "Average loss: 0.163106, Val loss: 0.142857\n",
      "Average loss: 0.165376, Val loss: 0.142857\n",
      "Average loss: 0.163195, Val loss: 0.142857\n",
      "Average loss: 0.162713, Val loss: 0.142857\n",
      "Average loss: 0.163641, Val loss: 0.142857\n",
      "Average loss: 0.163756, Val loss: 0.142857\n",
      "Average loss: 0.162932, Val loss: 0.142857\n",
      "Average loss: 0.162515, Val loss: 0.142857\n",
      "Average loss: 0.170131, Val loss: 0.190476\n",
      "Average loss: 0.162965, Val loss: 0.190476\n",
      "Average loss: 0.168188, Val loss: 0.142857\n",
      "Average loss: 0.205433, Val loss: 0.190476\n",
      "Average loss: 0.162005, Val loss: 0.190476\n",
      "Average loss: 0.202752, Val loss: 0.142857\n",
      "Average loss: 0.162647, Val loss: 0.190476\n",
      "Average loss: 0.164751, Val loss: 0.190476\n",
      "Average loss: 0.163505, Val loss: 0.142857\n",
      "Average loss: 0.163763, Val loss: 0.190476\n",
      "Average loss: 0.162855, Val loss: 0.142857\n",
      "Average loss: 0.165804, Val loss: 0.142857\n",
      "Average loss: 0.164232, Val loss: 0.190476\n",
      "Average loss: 0.196338, Val loss: 0.142857\n",
      "Average loss: 0.163604, Val loss: 0.142857\n",
      "Average loss: 0.163382, Val loss: 0.142857\n",
      "Average loss: 0.170567, Val loss: 0.142857\n",
      "Average loss: 0.163662, Val loss: 0.142857\n",
      "Average loss: 0.163301, Val loss: 0.190476\n",
      "Average loss: 0.162944, Val loss: 0.142857\n",
      "Average loss: 0.169969, Val loss: 0.142857\n",
      "Average loss: 0.165632, Val loss: 0.142857\n",
      "Average loss: 0.164281, Val loss: 0.142857\n",
      "Average loss: 0.163246, Val loss: 0.142857\n",
      "Average loss: 0.169688, Val loss: 0.142857\n",
      "Average loss: 0.168821, Val loss: 0.142857\n",
      "Average loss: 0.163007, Val loss: 0.142857\n",
      "Average loss: 0.163392, Val loss: 0.142857\n",
      "Average loss: 0.234865, Val loss: 0.142857\n",
      "Average loss: 0.162813, Val loss: 0.142857\n",
      "Average loss: 0.162138, Val loss: 0.142857\n",
      "Average loss: 0.163965, Val loss: 0.095238\n",
      "Average loss: 0.162799, Val loss: 0.142857\n",
      "Average loss: 0.162580, Val loss: 0.142857\n",
      "Average loss: 0.163510, Val loss: 0.142857\n",
      "Average loss: 0.163173, Val loss: 0.142857\n",
      "Average loss: 0.234660, Val loss: 0.095238\n",
      "Average loss: 0.201046, Val loss: 0.142857\n",
      "Average loss: 0.162222, Val loss: 0.142857\n",
      "Average loss: 0.161919, Val loss: 0.142857\n",
      "Average loss: 0.167535, Val loss: 0.142857\n",
      "Average loss: 0.162910, Val loss: 0.142857\n",
      "Average loss: 0.178535, Val loss: 0.142857\n",
      "Average loss: 0.164076, Val loss: 0.142857\n",
      "Average loss: 0.163009, Val loss: 0.095238\n",
      "Average loss: 0.162557, Val loss: 0.142857\n",
      "Average loss: 0.163651, Val loss: 0.190476\n",
      "Average loss: 0.162686, Val loss: 0.142857\n",
      "Average loss: 0.175701, Val loss: 0.190476\n",
      "Average loss: 0.162721, Val loss: 0.142857\n",
      "Average loss: 0.202554, Val loss: 0.190476\n",
      "Average loss: 0.196678, Val loss: 0.142857\n",
      "Average loss: 0.163928, Val loss: 0.142857\n",
      "Average loss: 0.163827, Val loss: 0.142857\n",
      "Average loss: 0.163086, Val loss: 0.142857\n",
      "Average loss: 0.163549, Val loss: 0.142857\n",
      "Average loss: 0.207373, Val loss: 0.095238\n",
      "Average loss: 0.172588, Val loss: 0.190476\n",
      "Average loss: 0.172983, Val loss: 0.142857\n",
      "Average loss: 0.164112, Val loss: 0.142857\n",
      "Average loss: 0.163891, Val loss: 0.142857\n",
      "Average loss: 0.168390, Val loss: 0.190476\n",
      "Average loss: 0.163609, Val loss: 0.142857\n",
      "Average loss: 0.162870, Val loss: 0.142857\n",
      "Average loss: 0.167853, Val loss: 0.142857\n",
      "Average loss: 0.163038, Val loss: 0.190476\n",
      "Average loss: 0.163029, Val loss: 0.190476\n",
      "Average loss: 0.164802, Val loss: 0.142857\n",
      "Average loss: 0.171068, Val loss: 0.142857\n",
      "Average loss: 0.162981, Val loss: 0.190476\n",
      "Average loss: 0.167635, Val loss: 0.142857\n",
      "Average loss: 0.164303, Val loss: 0.142857\n",
      "Average loss: 0.166892, Val loss: 0.142857\n",
      "Average loss: 0.166548, Val loss: 0.142857\n",
      "Average loss: 0.163389, Val loss: 0.142857\n",
      "Average loss: 0.162807, Val loss: 0.142857\n",
      "Average loss: 0.162583, Val loss: 0.142857\n",
      "Average loss: 0.163677, Val loss: 0.142857\n",
      "Average loss: 0.162756, Val loss: 0.142857\n",
      "Average loss: 0.173958, Val loss: 0.142857\n",
      "Average loss: 0.162783, Val loss: 0.190476\n",
      "Average loss: 0.162855, Val loss: 0.142857\n",
      "Average loss: 0.162808, Val loss: 0.142857\n",
      "Average loss: 0.174891, Val loss: 0.190476\n",
      "Average loss: 0.234416, Val loss: 0.190476\n",
      "Average loss: 0.163985, Val loss: 0.190476\n",
      "Average loss: 0.168585, Val loss: 0.142857\n",
      "Average loss: 0.203336, Val loss: 0.142857\n",
      "Average loss: 0.164259, Val loss: 0.142857\n",
      "Average loss: 0.162319, Val loss: 0.142857\n",
      "Average loss: 0.162104, Val loss: 0.142857\n",
      "Average loss: 0.168392, Val loss: 0.190476\n",
      "Average loss: 0.162339, Val loss: 0.142857\n",
      "Average loss: 0.163149, Val loss: 0.142857\n",
      "Average loss: 0.168880, Val loss: 0.190476\n",
      "Average loss: 0.162919, Val loss: 0.190476\n",
      "Average loss: 0.168556, Val loss: 0.142857\n",
      "Average loss: 0.164207, Val loss: 0.190476\n",
      "Average loss: 0.234837, Val loss: 0.190476\n",
      "Average loss: 0.164618, Val loss: 0.142857\n",
      "Average loss: 0.163237, Val loss: 0.142857\n",
      "Average loss: 0.163146, Val loss: 0.142857\n",
      "Average loss: 0.162641, Val loss: 0.142857\n",
      "Average loss: 0.164094, Val loss: 0.142857\n",
      "Average loss: 0.163198, Val loss: 0.142857\n",
      "Average loss: 0.163870, Val loss: 0.142857\n",
      "Average loss: 0.186026, Val loss: 0.142857\n",
      "Average loss: 0.174290, Val loss: 0.142857\n",
      "Average loss: 0.164717, Val loss: 0.142857\n",
      "Average loss: 0.162525, Val loss: 0.190476\n",
      "Average loss: 0.169108, Val loss: 0.142857\n",
      "Average loss: 0.169280, Val loss: 0.142857\n",
      "Average loss: 0.162476, Val loss: 0.142857\n",
      "Average loss: 0.162579, Val loss: 0.142857\n",
      "Average loss: 0.163050, Val loss: 0.190476\n",
      "Average loss: 0.162366, Val loss: 0.142857\n",
      "Average loss: 0.167615, Val loss: 0.142857\n",
      "Average loss: 0.165551, Val loss: 0.142857\n",
      "Average loss: 0.164522, Val loss: 0.190476\n",
      "Average loss: 0.163283, Val loss: 0.142857\n",
      "Average loss: 0.162877, Val loss: 0.142857\n",
      "Average loss: 0.175001, Val loss: 0.142857\n",
      "Average loss: 0.236069, Val loss: 0.190476\n",
      "Average loss: 0.168072, Val loss: 0.190476\n",
      "Average loss: 0.163264, Val loss: 0.142857\n",
      "Average loss: 0.161805, Val loss: 0.142857\n",
      "Average loss: 0.162326, Val loss: 0.190476\n",
      "Average loss: 0.172462, Val loss: 0.142857\n",
      "Average loss: 0.204599, Val loss: 0.095238\n",
      "Average loss: 0.161858, Val loss: 0.142857\n",
      "Average loss: 0.162609, Val loss: 0.142857\n",
      "Average loss: 0.164256, Val loss: 0.142857\n",
      "Average loss: 0.202291, Val loss: 0.190476\n",
      "Average loss: 0.200977, Val loss: 0.142857\n",
      "Average loss: 0.161801, Val loss: 0.142857\n",
      "Average loss: 0.168354, Val loss: 0.095238\n",
      "Average loss: 0.162761, Val loss: 0.142857\n",
      "Average loss: 0.172907, Val loss: 0.095238\n",
      "Average loss: 0.161827, Val loss: 0.142857\n",
      "Average loss: 0.163029, Val loss: 0.142857\n",
      "Average loss: 0.162621, Val loss: 0.142857\n",
      "Average loss: 0.162692, Val loss: 0.190476\n",
      "Average loss: 0.163229, Val loss: 0.142857\n",
      "Average loss: 0.173302, Val loss: 0.142857\n",
      "Average loss: 0.176524, Val loss: 0.142857\n",
      "Average loss: 0.163684, Val loss: 0.142857\n",
      "Average loss: 0.168108, Val loss: 0.142857\n",
      "Average loss: 0.175045, Val loss: 0.142857\n",
      "Average loss: 0.170338, Val loss: 0.190476\n",
      "Average loss: 0.168201, Val loss: 0.142857\n",
      "Average loss: 0.163277, Val loss: 0.142857\n",
      "Average loss: 0.162323, Val loss: 0.142857\n",
      "Average loss: 0.164455, Val loss: 0.142857\n",
      "Average loss: 0.163807, Val loss: 0.142857\n",
      "Average loss: 0.163248, Val loss: 0.142857\n",
      "Average loss: 0.162332, Val loss: 0.190476\n",
      "Average loss: 0.234834, Val loss: 0.142857\n",
      "Average loss: 0.162345, Val loss: 0.095238\n",
      "Average loss: 0.168928, Val loss: 0.142857\n",
      "Average loss: 0.165906, Val loss: 0.142857\n",
      "Average loss: 0.163070, Val loss: 0.190476\n",
      "Average loss: 0.162768, Val loss: 0.095238\n",
      "Average loss: 0.163925, Val loss: 0.142857\n",
      "Average loss: 0.170895, Val loss: 0.142857\n",
      "Average loss: 0.163830, Val loss: 0.142857\n",
      "Average loss: 0.170345, Val loss: 0.142857\n",
      "Average loss: 0.162962, Val loss: 0.142857\n",
      "Average loss: 0.162972, Val loss: 0.095238\n",
      "Average loss: 0.165389, Val loss: 0.190476\n",
      "Average loss: 0.164115, Val loss: 0.142857\n",
      "Average loss: 0.165346, Val loss: 0.142857\n",
      "Average loss: 0.163153, Val loss: 0.095238\n",
      "Average loss: 0.162689, Val loss: 0.142857\n",
      "Average loss: 0.163952, Val loss: 0.142857\n",
      "Average loss: 0.162979, Val loss: 0.190476\n",
      "Average loss: 0.169650, Val loss: 0.095238\n",
      "Average loss: 0.167881, Val loss: 0.142857\n",
      "Average loss: 0.207158, Val loss: 0.142857\n",
      "Average loss: 0.163229, Val loss: 0.095238\n",
      "Average loss: 0.162849, Val loss: 0.190476\n"
     ]
    },
    {
     "name": "stdout",
     "output_type": "stream",
     "text": [
      "Average loss: 0.167325, Val loss: 0.142857\n",
      "Average loss: 0.162587, Val loss: 0.142857\n",
      "Average loss: 0.165392, Val loss: 0.095238\n",
      "Average loss: 0.162757, Val loss: 0.142857\n",
      "Average loss: 0.164070, Val loss: 0.142857\n",
      "Average loss: 0.162729, Val loss: 0.142857\n",
      "Average loss: 0.163976, Val loss: 0.142857\n",
      "Average loss: 0.163171, Val loss: 0.142857\n",
      "Average loss: 0.169817, Val loss: 0.142857\n",
      "Average loss: 0.163173, Val loss: 0.142857\n",
      "Average loss: 0.162985, Val loss: 0.142857\n",
      "Average loss: 0.234548, Val loss: 0.142857\n",
      "Average loss: 0.162681, Val loss: 0.142857\n",
      "Average loss: 0.170096, Val loss: 0.190476\n",
      "Average loss: 0.163368, Val loss: 0.142857\n",
      "Average loss: 0.163738, Val loss: 0.142857\n",
      "Average loss: 0.164725, Val loss: 0.142857\n",
      "Average loss: 0.164204, Val loss: 0.142857\n",
      "Average loss: 0.162976, Val loss: 0.190476\n",
      "Average loss: 0.163534, Val loss: 0.190476\n",
      "Average loss: 0.169493, Val loss: 0.142857\n",
      "Average loss: 0.163559, Val loss: 0.142857\n",
      "Average loss: 0.162513, Val loss: 0.142857\n"
     ]
    }
   ],
   "source": [
    "# сама модель\n",
    "# N is batch size; D_in is input dimension;\n",
    "# H is hidden dimension; D_out is output dimension.\n",
    "N, D_in, H, D_out = x_train_2.shape[0], n_f, 3, 1\n",
    "\n",
    "nn_model_2 = nn.Sequential(\n",
    "    #nn.BatchNorm1d(D_in),\n",
    "    nn.Linear(D_in, H),\n",
    "    nn.CELU(10),\n",
    "    nn.Linear(H, D_out))\n",
    "\n",
    "\n",
    "#МНК- функция ошибок, оптимизатор- стохастический градиентный спуск\n",
    "\n",
    "loss= nn.MSELoss()\n",
    "optimizer = optim.SGD(nn_model_2.parameters(), lr=1e-3, weight_decay=1e-1)\n",
    "loss_history, val_history = train_model(nn_model_2, train_loader2, val_loader2, loss, optimizer,600)"
   ]
  },
  {
   "cell_type": "code",
   "execution_count": 391,
   "metadata": {},
   "outputs": [
    {
     "data": {
      "text/plain": [
       "[<matplotlib.lines.Line2D at 0x182e3400>]"
      ]
     },
     "execution_count": 391,
     "metadata": {},
     "output_type": "execute_result"
    },
    {
     "data": {
      "image/png": "[encoded data removed]",
      "text/plain": [
       "<Figure size 432x288 with 1 Axes>"
      ]
     },
     "metadata": {
      "needs_background": "light"
     },
     "output_type": "display_data"
    }
   ],
   "source": [
    "plt.plot(loss_history)\n",
    "plt.plot(val_history)"
   ]
  },
  {
   "cell_type": "code",
   "execution_count": 392,
   "metadata": {},
   "outputs": [
    {
     "data": {
      "text/plain": [
       "0.1187063530087471"
      ]
     },
     "execution_count": 392,
     "metadata": {},
     "output_type": "execute_result"
    }
   ],
   "source": [
    "nn_model_2.eval() # Evaluation mode\n",
    "prediction = nn_model_2((x_test_2-mean)/sigm)    \n",
    "loss = loss(prediction, y_test_2)\n",
    "\n",
    "loss.item()"
   ]
  },
  {
   "cell_type": "code",
   "execution_count": 393,
   "metadata": {},
   "outputs": [
    {
     "data": {
      "text/plain": [
       "[<matplotlib.lines.Line2D at 0x1831a828>]"
      ]
     },
     "execution_count": 393,
     "metadata": {},
     "output_type": "execute_result"
    },
    {
     "data": {
      "image/png": "[encoded data removed]",
      "text/plain": [
       "<Figure size 432x288 with 1 Axes>"
      ]
     },
     "metadata": {
      "needs_background": "light"
     },
     "output_type": "display_data"
    }
   ],
   "source": [
    "plt.plot(y_test_2.detach().numpy())# синяя\n",
    "plt.plot(prediction.detach().numpy())# оранжевая"
   ]
  },
  {
   "cell_type": "code",
   "execution_count": 394,
   "metadata": {},
   "outputs": [
    {
     "data": {
      "text/plain": [
       "[<matplotlib.lines.Line2D at 0x170fe208>]"
      ]
     },
     "execution_count": 394,
     "metadata": {},
     "output_type": "execute_result"
    },
    {
     "data": {
      "image/png": "[encoded data removed]",
      "text/plain": [
       "<Figure size 432x288 with 1 Axes>"
      ]
     },
     "metadata": {
      "needs_background": "light"
     },
     "output_type": "display_data"
    }
   ],
   "source": [
    "nn_model_2.eval() \n",
    "prediction = nn_model_2((Xall-mean)/sigm) \n",
    "\n",
    "plt.plot(Yall.detach().numpy())\n",
    "plt.plot(prediction.detach().numpy())\n",
    "plt.plot(EPS.detach().numpy())"
   ]
  },
  {
   "cell_type": "markdown",
   "metadata": {},
   "source": [
    " прогноз на t+1"
   ]
  },
  {
   "cell_type": "code",
   "execution_count": 395,
   "metadata": {},
   "outputs": [],
   "source": [
    "comp=np.asarray([])\n",
    "Xall_pred=np.asarray([]).reshape(-1,n_f)\n",
    "\n",
    "for company, sub_df in df.groupby(['company']):\n",
    "    XX=np.vstack([np.asarray(sub_df['EPS_ACT'].shift(-3)),np.asarray(sub_df['EPS_ACT'].shift(-2)), \n",
    "                  np.asarray(sub_df['EPS_ACT'].shift(-1)),np.asarray(sub_df['EPS_ACT'])]).T[0]\n",
    "        \n",
    "    Xall_pred=np.vstack([Xall_pred,XX])\n",
    "    comp=np.append(comp,company)\n",
    " "
   ]
  },
  {
   "cell_type": "code",
   "execution_count": 396,
   "metadata": {},
   "outputs": [],
   "source": [
    "nn_model_2.eval() \n",
    "pred = nn_model_2((torch.as_tensor(Xall_pred,dtype=torch.float32)-mean)/sigm) "
   ]
  },
  {
   "cell_type": "code",
   "execution_count": 397,
   "metadata": {},
   "outputs": [
    {
     "data": {
      "text/html": [
       "<div>\n",
       "<style scoped>\n",
       "    .dataframe tbody tr th:only-of-type {\n",
       "        vertical-align: middle;\n",
       "    }\n",
       "\n",
       "    .dataframe tbody tr th {\n",
       "        vertical-align: top;\n",
       "    }\n",
       "\n",
       "    .dataframe thead th {\n",
       "        text-align: right;\n",
       "    }\n",
       "</style>\n",
       "<table border=\"1\" class=\"dataframe\">\n",
       "  <thead>\n",
       "    <tr style=\"text-align: right;\">\n",
       "      <th></th>\n",
       "      <th>company</th>\n",
       "      <th>EPS_ACT_t-1</th>\n",
       "      <th>EPS_ACT</th>\n",
       "      <th>nn_model prediction</th>\n",
       "      <th>model0</th>\n",
       "    </tr>\n",
       "  </thead>\n",
       "  <tbody>\n",
       "    <tr>\n",
       "      <th>0</th>\n",
       "      <td>ZES-AXP</td>\n",
       "      <td>1.74</td>\n",
       "      <td>2.01</td>\n",
       "      <td>2.01</td>\n",
       "      <td>2.03</td>\n",
       "    </tr>\n",
       "    <tr>\n",
       "      <th>1</th>\n",
       "      <td>ZES-BA</td>\n",
       "      <td>5.48</td>\n",
       "      <td>3.16</td>\n",
       "      <td>3.80</td>\n",
       "      <td>4.07</td>\n",
       "    </tr>\n",
       "    <tr>\n",
       "      <th>2</th>\n",
       "      <td>ZES-CAT</td>\n",
       "      <td>2.55</td>\n",
       "      <td>2.94</td>\n",
       "      <td>3.01</td>\n",
       "      <td>3.08</td>\n",
       "    </tr>\n",
       "    <tr>\n",
       "      <th>3</th>\n",
       "      <td>ZES-GE</td>\n",
       "      <td>0.17</td>\n",
       "      <td>0.14</td>\n",
       "      <td>0.18</td>\n",
       "      <td>0.15</td>\n",
       "    </tr>\n",
       "    <tr>\n",
       "      <th>4</th>\n",
       "      <td>ZES-GS</td>\n",
       "      <td>6.04</td>\n",
       "      <td>5.71</td>\n",
       "      <td>5.88</td>\n",
       "      <td>5.78</td>\n",
       "    </tr>\n",
       "    <tr>\n",
       "      <th>5</th>\n",
       "      <td>ZES-INTC</td>\n",
       "      <td>1.28</td>\n",
       "      <td>0.89</td>\n",
       "      <td>1.10</td>\n",
       "      <td>0.96</td>\n",
       "    </tr>\n",
       "    <tr>\n",
       "      <th>6</th>\n",
       "      <td>ZES-JNJ</td>\n",
       "      <td>1.97</td>\n",
       "      <td>2.10</td>\n",
       "      <td>2.20</td>\n",
       "      <td>2.14</td>\n",
       "    </tr>\n",
       "    <tr>\n",
       "      <th>7</th>\n",
       "      <td>ZES-JPM</td>\n",
       "      <td>1.98</td>\n",
       "      <td>2.65</td>\n",
       "      <td>2.52</td>\n",
       "      <td>2.64</td>\n",
       "    </tr>\n",
       "    <tr>\n",
       "      <th>8</th>\n",
       "      <td>ZES-KO</td>\n",
       "      <td>0.43</td>\n",
       "      <td>0.48</td>\n",
       "      <td>0.56</td>\n",
       "      <td>0.49</td>\n",
       "    </tr>\n",
       "    <tr>\n",
       "      <th>9</th>\n",
       "      <td>ZES-MMM</td>\n",
       "      <td>2.31</td>\n",
       "      <td>2.23</td>\n",
       "      <td>2.51</td>\n",
       "      <td>2.30</td>\n",
       "    </tr>\n",
       "    <tr>\n",
       "      <th>10</th>\n",
       "      <td>ZES-NKE</td>\n",
       "      <td>0.52</td>\n",
       "      <td>0.68</td>\n",
       "      <td>0.70</td>\n",
       "      <td>0.68</td>\n",
       "    </tr>\n",
       "    <tr>\n",
       "      <th>11</th>\n",
       "      <td>ZES-PG</td>\n",
       "      <td>1.25</td>\n",
       "      <td>1.06</td>\n",
       "      <td>1.13</td>\n",
       "      <td>1.11</td>\n",
       "    </tr>\n",
       "    <tr>\n",
       "      <th>12</th>\n",
       "      <td>ZES-TRV</td>\n",
       "      <td>2.13</td>\n",
       "      <td>2.83</td>\n",
       "      <td>2.46</td>\n",
       "      <td>2.89</td>\n",
       "    </tr>\n",
       "    <tr>\n",
       "      <th>13</th>\n",
       "      <td>ZES-UNH</td>\n",
       "      <td>3.28</td>\n",
       "      <td>3.73</td>\n",
       "      <td>3.56</td>\n",
       "      <td>3.77</td>\n",
       "    </tr>\n",
       "    <tr>\n",
       "      <th>14</th>\n",
       "      <td>ZES-UTX</td>\n",
       "      <td>1.95</td>\n",
       "      <td>1.91</td>\n",
       "      <td>2.06</td>\n",
       "      <td>1.97</td>\n",
       "    </tr>\n",
       "    <tr>\n",
       "      <th>15</th>\n",
       "      <td>ZES-V</td>\n",
       "      <td>1.30</td>\n",
       "      <td>1.31</td>\n",
       "      <td>1.36</td>\n",
       "      <td>1.35</td>\n",
       "    </tr>\n",
       "    <tr>\n",
       "      <th>16</th>\n",
       "      <td>ZES-VZ</td>\n",
       "      <td>1.12</td>\n",
       "      <td>1.20</td>\n",
       "      <td>1.27</td>\n",
       "      <td>1.22</td>\n",
       "    </tr>\n",
       "  </tbody>\n",
       "</table>\n",
       "</div>"
      ],
      "text/plain": [
       "     company  EPS_ACT_t-1  EPS_ACT  nn_model prediction  model0\n",
       "0    ZES-AXP         1.74     2.01                 2.01    2.03\n",
       "1     ZES-BA         5.48     3.16                 3.80    4.07\n",
       "2    ZES-CAT         2.55     2.94                 3.01    3.08\n",
       "3     ZES-GE         0.17     0.14                 0.18    0.15\n",
       "4     ZES-GS         6.04     5.71                 5.88    5.78\n",
       "5   ZES-INTC         1.28     0.89                 1.10    0.96\n",
       "6    ZES-JNJ         1.97     2.10                 2.20    2.14\n",
       "7    ZES-JPM         1.98     2.65                 2.52    2.64\n",
       "8     ZES-KO         0.43     0.48                 0.56    0.49\n",
       "9    ZES-MMM         2.31     2.23                 2.51    2.30\n",
       "10   ZES-NKE         0.52     0.68                 0.70    0.68\n",
       "11    ZES-PG         1.25     1.06                 1.13    1.11\n",
       "12   ZES-TRV         2.13     2.83                 2.46    2.89\n",
       "13   ZES-UNH         3.28     3.73                 3.56    3.77\n",
       "14   ZES-UTX         1.95     1.91                 2.06    1.97\n",
       "15     ZES-V         1.30     1.31                 1.36    1.35\n",
       "16    ZES-VZ         1.12     1.20                 1.27    1.22"
      ]
     },
     "execution_count": 397,
     "metadata": {},
     "output_type": "execute_result"
    }
   ],
   "source": [
    "res2=pd.DataFrame({'company':comp,'EPS_ACT_t-1':Xall_pred[:,2],'EPS_ACT':Xall_pred[:,3],'nn_model prediction':np.round((pred.detach().numpy()).flatten(),decimals=2),'model0':np.round(model0,decimals=2)})\n",
    "res2"
   ]
  },
  {
   "cell_type": "code",
   "execution_count": null,
   "metadata": {},
   "outputs": [],
   "source": [
    "для ZES-GE,ZES-KO лучше использовать линейную регрессию, т.к нейронная сеть ошибается  в значениях EPS меньше 0.5"
   ]
  }
 ],
 "metadata": {
  "kernelspec": {
   "display_name": "Python 3",
   "language": "python",
   "name": "python3"
  },
  "language_info": {
   "codemirror_mode": {
    "name": "ipython",
    "version": 3
   },
   "file_extension": ".py",
   "mimetype": "text/x-python",
   "name": "python",
   "nbconvert_exporter": "python",
   "pygments_lexer": "ipython3",
   "version": "3.7.1"
  }
 },
 "nbformat": 4,
 "nbformat_minor": 2
}
